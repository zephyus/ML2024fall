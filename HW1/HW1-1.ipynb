{
 "cells": [
  {
   "cell_type": "code",
   "id": "initial_id",
   "metadata": {
    "collapsed": true,
    "ExecuteTime": {
     "end_time": "2024-09-20T13:12:01.551703Z",
     "start_time": "2024-09-20T13:12:01.424299Z"
    }
   },
   "source": [
    "from IPython.display import display\n",
    "from PIL import Image\n",
    "import os\n",
    "import itertools\n",
    "\n",
    "class DogOrCat():\n",
    "    def __init__(self):\n",
    "        # 設置attribute\n",
    "        self.user_input = None\n",
    "        self.user_img_dir = None\n",
    "        self.result = None\n",
    "\n",
    "    def get_user_input(self):\n",
    "        \"\"\"取得使用者輸入並且計算結果給出預估\"\"\"\n",
    "        self.user_input = input(\"請輸入圖片編號(1~20): \")\n",
    "        # 將使用者輸入轉換成整數\n",
    "        try :\n",
    "            self.user_input = int(self.user_input)\n",
    "            if self.user_input < 1 or self.user_input > 20:\n",
    "                print(\"請輸入1~20之間的'數字'!\")\n",
    "                self.get_user_input()\n",
    "        except ValueError:\n",
    "            print(\"請輸入1~20之間的'數字'!\")\n",
    "            self.get_user_input()\n",
    "        # 設定圖片路徑\n",
    "        self.user_img_dir = f\"./test/pic{self.user_input}.jpg\"\n",
    "        # 顯示圖片\n",
    "        with Image.open(self.user_img_dir) as image:\n",
    "            display(image)\n",
    "        # 比對圖片\n",
    "        self.result = self.compare_images(self.user_img_dir)\n",
    "        print(self.result)\n",
    "        # 給出預估\n",
    "        self.from_result_get_prediction()\n",
    "\n",
    "    def calculate_similarity(self, img1: Image, img2: Image):\n",
    "        \"\"\"計算兩張圖片的相似度\"\"\"\n",
    "        # 將圖片大小統一\n",
    "        img1 = img1.resize((256, 256))  \n",
    "        img2 = img2.resize((256, 256))\n",
    "\n",
    "        img1 = img1.convert(\"RGB\")\n",
    "        img2 = img2.convert(\"RGB\")\n",
    "\n",
    "        pixels1 = img1.load()\n",
    "        pixels2 = img2.load()\n",
    "        # 初始化計算差異\n",
    "        diff_sum = 0\n",
    "\n",
    "        width, height = img1.size\n",
    "        # 逐個對比每個像素相減取絕對值\n",
    "        for x in range(width):\n",
    "            for y in range(height):\n",
    "                r1, g1, b1 = pixels1[x, y]\n",
    "                r2, g2, b2 = pixels2[x, y]\n",
    "\n",
    "                diff_sum += abs(r1 - r2) + abs(g1 - g2) + abs(b1 - b2)\n",
    "\n",
    "        return diff_sum\n",
    "\n",
    "    def compare_images(self, reference_image_path):\n",
    "        \"\"\"比對所有照片並且取得最相似的前五名\"\"\"\n",
    "        #  使用dictionary紀錄相似度\n",
    "        similarity_results = {}\n",
    "        # 讀取參考圖片\n",
    "        with Image.open(reference_image_path) as reference_img:\n",
    "            # 讀取所有狗的參考照片\n",
    "            for file_name in os.listdir(\"reference/dogs\"):\n",
    "                if file_name.endswith(('.jpg', '.png', '.jpeg')):  \n",
    "                    # 提取照片絕對路徑\n",
    "                    img_path = os.path.join(\"reference/dogs\", file_name)\n",
    "                    with Image.open(img_path) as comparison_img:\n",
    "                        # 計算相似度\n",
    "                        similarity_score = self.calculate_similarity(reference_img, comparison_img)\n",
    "                        similarity_results[file_name] = similarity_score\n",
    "            # 一樣流程操作貓的照片\n",
    "            for file_name in os.listdir(\"reference/cats\"):\n",
    "                if file_name.endswith(('.jpg', '.png', '.jpeg')):  \n",
    "                    img_path = os.path.join(\"reference/cats\", file_name)\n",
    "                    with Image.open(img_path) as comparison_img:\n",
    "                        similarity_score = self.calculate_similarity(reference_img, comparison_img)\n",
    "                        similarity_results[file_name] = similarity_score\n",
    "            # 排序並取得前五名\n",
    "            sorted_results = sorted(similarity_results.items(), key=lambda x: x[1])\n",
    "            first_five_results = dict(itertools.islice(sorted_results, 5))\n",
    "            return first_five_results\n",
    "\n",
    "    def from_result_get_prediction(self):\n",
    "        \"\"\"從比對結果取得預測\"\"\"\n",
    "        dogs = 0\n",
    "        cats = 0\n",
    "        # 統計前五名中狗和貓的數量\n",
    "        for key in self.result.keys():\n",
    "            if key.startswith(\"dog\"):\n",
    "                dogs += 1\n",
    "            elif key.startswith(\"cat\"):\n",
    "                cats += 1\n",
    "        # 判斷是狗還是貓\n",
    "        if dogs > cats:\n",
    "            return print(\"這是一隻狗\")\n",
    "        else:\n",
    "            return print(\"這是一隻貓\")\n",
    "\n",
    "    def iter_through_all_test(self, num):\n",
    "        \"\"\"將1~20依序比對並且取得預測\"\"\"\n",
    "        self.user_input = num\n",
    "        try:\n",
    "            self.user_input = int(self.user_input)\n",
    "            if self.user_input < 1 or self.user_input > 20:\n",
    "                print(\"請輸入1~20之間的'數字'!\")\n",
    "                self.get_user_input()\n",
    "        except ValueError:\n",
    "            print(\"請輸入1~20之間的'數字'!\")\n",
    "            self.get_user_input()\n",
    "        self.user_img_dir = f\"./test/pic{self.user_input}.jpg\"\n",
    "       \n",
    "        with Image.open(self.user_img_dir) as image:\n",
    "            display(image)\n",
    "\n",
    "        self.result = self.compare_images(self.user_img_dir)\n",
    "        print(self.result)\n",
    "        self.from_result_get_prediction()\n",
    "        "
   ],
   "outputs": [],
   "execution_count": 1
  },
  {
   "metadata": {},
   "cell_type": "markdown",
   "source": [
    "建立class DogOrCat，並且設置methods: \n",
    "get_user_input: 取得使用者輸入並且計算結果給出預估\n",
    "calculate_similarity: 計算兩張圖片的相似度\n",
    "compare_images: 比對所有照片並且取得最相似的前五名\n",
    "from_result_get_prediction: 從比對結果取得預測\n",
    "iter_through_all_test: 將1~20依序比對並且取得預測"
   ],
   "id": "4a7bfc4652f285b7"
  },
  {
   "metadata": {
    "ExecuteTime": {
     "end_time": "2024-09-20T13:20:15.892700Z",
     "start_time": "2024-09-20T13:20:13.576708Z"
    }
   },
   "cell_type": "code",
   "source": [
    "# 建立物件\n",
    "dogOrCat = DogOrCat()\n",
    "#並且取得使用者輸入\n",
    "dogOrCat.get_user_input()"
   ],
   "id": "6feadb799bd9c9f6",
   "outputs": [
    {
     "ename": "KeyboardInterrupt",
     "evalue": "Interrupted by user",
     "output_type": "error",
     "traceback": [
      "\u001B[1;31m---------------------------------------------------------------------------\u001B[0m",
      "\u001B[1;31mKeyboardInterrupt\u001B[0m                         Traceback (most recent call last)",
      "Cell \u001B[1;32mIn[2], line 2\u001B[0m\n\u001B[0;32m      1\u001B[0m dogOrCat \u001B[38;5;241m=\u001B[39m DogOrCat()\n\u001B[1;32m----> 2\u001B[0m dogOrCat\u001B[38;5;241m.\u001B[39mget_user_input()\n",
      "Cell \u001B[1;32mIn[1], line 13\u001B[0m, in \u001B[0;36mDogOrCat.get_user_input\u001B[1;34m(self)\u001B[0m\n\u001B[0;32m     12\u001B[0m \u001B[38;5;28;01mdef\u001B[39;00m \u001B[38;5;21mget_user_input\u001B[39m(\u001B[38;5;28mself\u001B[39m):\n\u001B[1;32m---> 13\u001B[0m     \u001B[38;5;28mself\u001B[39m\u001B[38;5;241m.\u001B[39muser_input \u001B[38;5;241m=\u001B[39m \u001B[38;5;28minput\u001B[39m(\u001B[38;5;124m\"\u001B[39m\u001B[38;5;124m請輸入圖片編號(1~20): \u001B[39m\u001B[38;5;124m\"\u001B[39m)\n\u001B[0;32m     14\u001B[0m     \u001B[38;5;28;01mtry\u001B[39;00m :\n\u001B[0;32m     15\u001B[0m         \u001B[38;5;28mself\u001B[39m\u001B[38;5;241m.\u001B[39muser_input \u001B[38;5;241m=\u001B[39m \u001B[38;5;28mint\u001B[39m(\u001B[38;5;28mself\u001B[39m\u001B[38;5;241m.\u001B[39muser_input)\n",
      "File \u001B[1;32m~\\.conda\\envs\\113_1_MachineLearning_HW1\\Lib\\site-packages\\ipykernel\\kernelbase.py:1262\u001B[0m, in \u001B[0;36mKernel.raw_input\u001B[1;34m(self, prompt)\u001B[0m\n\u001B[0;32m   1260\u001B[0m     msg \u001B[38;5;241m=\u001B[39m \u001B[38;5;124m\"\u001B[39m\u001B[38;5;124mraw_input was called, but this frontend does not support input requests.\u001B[39m\u001B[38;5;124m\"\u001B[39m\n\u001B[0;32m   1261\u001B[0m     \u001B[38;5;28;01mraise\u001B[39;00m StdinNotImplementedError(msg)\n\u001B[1;32m-> 1262\u001B[0m \u001B[38;5;28;01mreturn\u001B[39;00m \u001B[38;5;28mself\u001B[39m\u001B[38;5;241m.\u001B[39m_input_request(\n\u001B[0;32m   1263\u001B[0m     \u001B[38;5;28mstr\u001B[39m(prompt),\n\u001B[0;32m   1264\u001B[0m     \u001B[38;5;28mself\u001B[39m\u001B[38;5;241m.\u001B[39m_parent_ident[\u001B[38;5;124m\"\u001B[39m\u001B[38;5;124mshell\u001B[39m\u001B[38;5;124m\"\u001B[39m],\n\u001B[0;32m   1265\u001B[0m     \u001B[38;5;28mself\u001B[39m\u001B[38;5;241m.\u001B[39mget_parent(\u001B[38;5;124m\"\u001B[39m\u001B[38;5;124mshell\u001B[39m\u001B[38;5;124m\"\u001B[39m),\n\u001B[0;32m   1266\u001B[0m     password\u001B[38;5;241m=\u001B[39m\u001B[38;5;28;01mFalse\u001B[39;00m,\n\u001B[0;32m   1267\u001B[0m )\n",
      "File \u001B[1;32m~\\.conda\\envs\\113_1_MachineLearning_HW1\\Lib\\site-packages\\ipykernel\\kernelbase.py:1305\u001B[0m, in \u001B[0;36mKernel._input_request\u001B[1;34m(self, prompt, ident, parent, password)\u001B[0m\n\u001B[0;32m   1302\u001B[0m \u001B[38;5;28;01mexcept\u001B[39;00m \u001B[38;5;167;01mKeyboardInterrupt\u001B[39;00m:\n\u001B[0;32m   1303\u001B[0m     \u001B[38;5;66;03m# re-raise KeyboardInterrupt, to truncate traceback\u001B[39;00m\n\u001B[0;32m   1304\u001B[0m     msg \u001B[38;5;241m=\u001B[39m \u001B[38;5;124m\"\u001B[39m\u001B[38;5;124mInterrupted by user\u001B[39m\u001B[38;5;124m\"\u001B[39m\n\u001B[1;32m-> 1305\u001B[0m     \u001B[38;5;28;01mraise\u001B[39;00m \u001B[38;5;167;01mKeyboardInterrupt\u001B[39;00m(msg) \u001B[38;5;28;01mfrom\u001B[39;00m \u001B[38;5;28;01mNone\u001B[39;00m\n\u001B[0;32m   1306\u001B[0m \u001B[38;5;28;01mexcept\u001B[39;00m \u001B[38;5;167;01mException\u001B[39;00m:\n\u001B[0;32m   1307\u001B[0m     \u001B[38;5;28mself\u001B[39m\u001B[38;5;241m.\u001B[39mlog\u001B[38;5;241m.\u001B[39mwarning(\u001B[38;5;124m\"\u001B[39m\u001B[38;5;124mInvalid Message:\u001B[39m\u001B[38;5;124m\"\u001B[39m, exc_info\u001B[38;5;241m=\u001B[39m\u001B[38;5;28;01mTrue\u001B[39;00m)\n",
      "\u001B[1;31mKeyboardInterrupt\u001B[0m: Interrupted by user"
     ]
    }
   ],
   "execution_count": 2
  },
  {
   "metadata": {},
   "cell_type": "markdown",
   "source": "使用物件並且取得使用者輸入\n",
   "id": "49c3c813e96ed24a"
  },
  {
   "metadata": {},
   "cell_type": "code",
   "outputs": [],
   "execution_count": null,
   "source": "",
   "id": "651341411a5e91f7"
  },
  {
   "metadata": {},
   "cell_type": "markdown",
   "source": "for testing using github branching to do pull request",
   "id": "b85e63b0e5efdab2"
  }
 ],
 "metadata": {
  "kernelspec": {
   "display_name": "Python 3",
   "language": "python",
   "name": "python3"
  },
  "language_info": {
   "codemirror_mode": {
    "name": "ipython",
    "version": 2
   },
   "file_extension": ".py",
   "mimetype": "text/x-python",
   "name": "python",
   "nbconvert_exporter": "python",
   "pygments_lexer": "ipython2",
   "version": "2.7.6"
  }
 },
 "nbformat": 4,
 "nbformat_minor": 5
}
