{
 "cells": [
  {
   "cell_type": "code",
   "execution_count": 283,
   "metadata": {},
   "outputs": [],
   "source": [
    "import numpy as np\n",
    "import pandas as pd\n",
    "import matplotlib.pyplot as plt\n",
    "from sklearn.model_selection import train_test_split\n",
    "from sklearn.linear_model import LogisticRegression\n",
    "from sklearn.metrics import accuracy_score,classification_report\n",
    "\n"
   ]
  },
  {
   "cell_type": "markdown",
   "metadata": {},
   "source": [
    "讀取CSV"
   ]
  },
  {
   "cell_type": "code",
   "execution_count": 284,
   "metadata": {},
   "outputs": [
    {
     "data": {
      "text/html": [
       "<div>\n",
       "<style scoped>\n",
       "    .dataframe tbody tr th:only-of-type {\n",
       "        vertical-align: middle;\n",
       "    }\n",
       "\n",
       "    .dataframe tbody tr th {\n",
       "        vertical-align: top;\n",
       "    }\n",
       "\n",
       "    .dataframe thead th {\n",
       "        text-align: right;\n",
       "    }\n",
       "</style>\n",
       "<table border=\"1\" class=\"dataframe\">\n",
       "  <thead>\n",
       "    <tr style=\"text-align: right;\">\n",
       "      <th></th>\n",
       "      <th>satisfaction_level</th>\n",
       "      <th>last_evaluation</th>\n",
       "      <th>number_project</th>\n",
       "      <th>average_montly_hours</th>\n",
       "      <th>time_spend_company</th>\n",
       "      <th>Work_accident</th>\n",
       "      <th>promotion_last_5years</th>\n",
       "      <th>left</th>\n",
       "    </tr>\n",
       "  </thead>\n",
       "  <tbody>\n",
       "    <tr>\n",
       "      <th>count</th>\n",
       "      <td>10000.000000</td>\n",
       "      <td>10000.000000</td>\n",
       "      <td>10000.000000</td>\n",
       "      <td>10000.000000</td>\n",
       "      <td>10000.000000</td>\n",
       "      <td>10000.000000</td>\n",
       "      <td>10000.00000</td>\n",
       "      <td>10000.000000</td>\n",
       "    </tr>\n",
       "    <tr>\n",
       "      <th>mean</th>\n",
       "      <td>0.609706</td>\n",
       "      <td>0.715803</td>\n",
       "      <td>3.803700</td>\n",
       "      <td>200.883800</td>\n",
       "      <td>3.502400</td>\n",
       "      <td>0.144400</td>\n",
       "      <td>0.02130</td>\n",
       "      <td>0.239200</td>\n",
       "    </tr>\n",
       "    <tr>\n",
       "      <th>std</th>\n",
       "      <td>0.247832</td>\n",
       "      <td>0.172137</td>\n",
       "      <td>1.238757</td>\n",
       "      <td>49.915824</td>\n",
       "      <td>1.478652</td>\n",
       "      <td>0.351512</td>\n",
       "      <td>0.14439</td>\n",
       "      <td>0.426616</td>\n",
       "    </tr>\n",
       "    <tr>\n",
       "      <th>min</th>\n",
       "      <td>0.090000</td>\n",
       "      <td>0.360000</td>\n",
       "      <td>2.000000</td>\n",
       "      <td>96.000000</td>\n",
       "      <td>2.000000</td>\n",
       "      <td>0.000000</td>\n",
       "      <td>0.00000</td>\n",
       "      <td>0.000000</td>\n",
       "    </tr>\n",
       "    <tr>\n",
       "      <th>25%</th>\n",
       "      <td>0.440000</td>\n",
       "      <td>0.560000</td>\n",
       "      <td>3.000000</td>\n",
       "      <td>156.000000</td>\n",
       "      <td>3.000000</td>\n",
       "      <td>0.000000</td>\n",
       "      <td>0.00000</td>\n",
       "      <td>0.000000</td>\n",
       "    </tr>\n",
       "    <tr>\n",
       "      <th>50%</th>\n",
       "      <td>0.640000</td>\n",
       "      <td>0.720000</td>\n",
       "      <td>4.000000</td>\n",
       "      <td>200.000000</td>\n",
       "      <td>3.000000</td>\n",
       "      <td>0.000000</td>\n",
       "      <td>0.00000</td>\n",
       "      <td>0.000000</td>\n",
       "    </tr>\n",
       "    <tr>\n",
       "      <th>75%</th>\n",
       "      <td>0.810000</td>\n",
       "      <td>0.870000</td>\n",
       "      <td>5.000000</td>\n",
       "      <td>245.000000</td>\n",
       "      <td>4.000000</td>\n",
       "      <td>0.000000</td>\n",
       "      <td>0.00000</td>\n",
       "      <td>0.000000</td>\n",
       "    </tr>\n",
       "    <tr>\n",
       "      <th>max</th>\n",
       "      <td>1.000000</td>\n",
       "      <td>1.000000</td>\n",
       "      <td>7.000000</td>\n",
       "      <td>310.000000</td>\n",
       "      <td>10.000000</td>\n",
       "      <td>1.000000</td>\n",
       "      <td>1.00000</td>\n",
       "      <td>1.000000</td>\n",
       "    </tr>\n",
       "  </tbody>\n",
       "</table>\n",
       "</div>"
      ],
      "text/plain": [
       "       satisfaction_level  last_evaluation  number_project  \\\n",
       "count        10000.000000     10000.000000    10000.000000   \n",
       "mean             0.609706         0.715803        3.803700   \n",
       "std              0.247832         0.172137        1.238757   \n",
       "min              0.090000         0.360000        2.000000   \n",
       "25%              0.440000         0.560000        3.000000   \n",
       "50%              0.640000         0.720000        4.000000   \n",
       "75%              0.810000         0.870000        5.000000   \n",
       "max              1.000000         1.000000        7.000000   \n",
       "\n",
       "       average_montly_hours  time_spend_company  Work_accident  \\\n",
       "count          10000.000000        10000.000000   10000.000000   \n",
       "mean             200.883800            3.502400       0.144400   \n",
       "std               49.915824            1.478652       0.351512   \n",
       "min               96.000000            2.000000       0.000000   \n",
       "25%              156.000000            3.000000       0.000000   \n",
       "50%              200.000000            3.000000       0.000000   \n",
       "75%              245.000000            4.000000       0.000000   \n",
       "max              310.000000           10.000000       1.000000   \n",
       "\n",
       "       promotion_last_5years          left  \n",
       "count            10000.00000  10000.000000  \n",
       "mean                 0.02130      0.239200  \n",
       "std                  0.14439      0.426616  \n",
       "min                  0.00000      0.000000  \n",
       "25%                  0.00000      0.000000  \n",
       "50%                  0.00000      0.000000  \n",
       "75%                  0.00000      0.000000  \n",
       "max                  1.00000      1.000000  "
      ]
     },
     "execution_count": 284,
     "metadata": {},
     "output_type": "execute_result"
    }
   ],
   "source": [
    "train_df = pd.read_csv(\"HW2_hr-analytics_train.csv\")\n",
    "train_df.describe()"
   ]
  },
  {
   "cell_type": "markdown",
   "metadata": {},
   "source": [
    "將數字欄位的缺失值變成NaN\n",
    "經過檢查，發現沒有缺失值"
   ]
  },
  {
   "cell_type": "code",
   "execution_count": 285,
   "metadata": {},
   "outputs": [
    {
     "name": "stdout",
     "output_type": "stream",
     "text": [
      "satisfaction_level       0\n",
      "last_evaluation          0\n",
      "number_project           0\n",
      "average_montly_hours     0\n",
      "time_spend_company       0\n",
      "Work_accident            0\n",
      "promotion_last_5years    0\n",
      "sales                    0\n",
      "salary                   0\n",
      "left                     0\n",
      "dtype: int64\n",
      "satisfaction_level       False\n",
      "last_evaluation          False\n",
      "number_project           False\n",
      "average_montly_hours     False\n",
      "time_spend_company       False\n",
      "Work_accident            False\n",
      "promotion_last_5years    False\n",
      "sales                    False\n",
      "salary                   False\n",
      "left                     False\n",
      "dtype: bool\n"
     ]
    }
   ],
   "source": [
    "nan_col = train_df.isna().sum()  #.isna()會回傳與train.df相同大小的datafram，若是有缺失直，就會回傳True\n",
    "#.sum 就是對每個column的True數目求和\n",
    "\n",
    "\n",
    "#下面兩個方法完全一樣，可以看出哪個column有缺失值\n",
    "nan_isnull = train_df.isnull().any()\n",
    "nan_isna = train_df.isna().any(axis = 0)  \n",
    "\n",
    "print(nan_col)\n",
    "\n",
    "print(nan_isna)"
   ]
  },
  {
   "cell_type": "markdown",
   "metadata": {},
   "source": [
    "將非數字類型進行編碼(機器學習模型通常只能處理數字。因此，需要將非數字的資料轉換成數字，才能讓模型學習。)"
   ]
  },
  {
   "cell_type": "markdown",
   "metadata": {},
   "source": [
    "#### 選擇適當的編碼方式：\n",
    "\n",
    "類別無高低關係：使用 One-Hot Encoding。但要小心資料量大會有Curse of dimensionality\n",
    "\n",
    "\n",
    "類別有高低順序之分：Ordinal Encoding\n",
    "\n",
    "e.g. \n",
    "高中 --> 1\n",
    "學士 --> 2\n",
    "碩士 --> 3\n",
    "博士 --> 4\n",
    "\n",
    "類別與目標變數有強相關性：Target Encoding，跟據結果來進行encpde。但需注意資料洩漏。"
   ]
  },
  {
   "cell_type": "code",
   "execution_count": 286,
   "metadata": {},
   "outputs": [
    {
     "name": "stdout",
     "output_type": "stream",
     "text": [
      "unique classes in sales: ['sales' 'accounting' 'hr' 'technical' 'support' 'management' 'IT'\n",
      " 'product_mng' 'marketing' 'RandD']\n",
      "\n",
      "\n",
      "unuque classes in salary: ['low' 'medium' 'high']\n"
     ]
    }
   ],
   "source": [
    "sales_class = train_df['sales'].unique()\n",
    "salary_class = train_df['salary'].unique()\n",
    "\n",
    "print(\"unique classes in sales:\",sales_class)\n",
    "print('\\n')\n",
    "print(\"unuque classes in salary:\",salary_class)"
   ]
  },
  {
   "cell_type": "markdown",
   "metadata": {},
   "source": [
    "經過上面觀察後，發現sales資料無相關性，所以使用one hot encoding\n",
    "salary 資料有相關性，所以使用label encoding"
   ]
  },
  {
   "cell_type": "code",
   "execution_count": 287,
   "metadata": {},
   "outputs": [],
   "source": [
    "## one hot encoding\n",
    "sales_encoded = pd.get_dummies(train_df['sales'],prefix='sales')\n",
    "#print(\"sales encoded:\\n\",sales_encoded.head())\n",
    "\n",
    "\n",
    "## label encoding\n",
    "mapping = {'low' : 0,'medium' :1,'high' : 2}\n",
    "train_df['salary_encoded' ] = train_df['salary'].map(mapping)\n"
   ]
  },
  {
   "cell_type": "markdown",
   "metadata": {},
   "source": [
    "將encoding結束的資料寫回新的csv"
   ]
  },
  {
   "cell_type": "code",
   "execution_count": 288,
   "metadata": {},
   "outputs": [],
   "source": [
    "train_df = pd.concat([train_df,sales_encoded],axis = 1)#將one hot encoding的結果整合進去train_df\n",
    "train_df = train_df.drop('sales',axis = 1)\n",
    "train_df = train_df.drop('salary',axis = 1)\n",
    "train_df.to_csv('encoded_train_data.csv',index= False)\n",
    "\n",
    "\n"
   ]
  },
  {
   "cell_type": "markdown",
   "metadata": {},
   "source": [
    "建立Logistic Regression 模型並進行訓練。請呈現訓練後模型預測\n",
    "的混淆矩陣。"
   ]
  },
  {
   "cell_type": "code",
   "execution_count": 289,
   "metadata": {},
   "outputs": [
    {
     "name": "stdout",
     "output_type": "stream",
     "text": [
      "Accuracy:0.79\n",
      "confusion matrix:\n",
      " [[700  48]\n",
      " [162  90]]\n",
      "Classification Report:\n",
      "              precision    recall  f1-score   support\n",
      "\n",
      "           0       0.81      0.94      0.87       748\n",
      "           1       0.65      0.36      0.46       252\n",
      "\n",
      "    accuracy                           0.79      1000\n",
      "   macro avg       0.73      0.65      0.67      1000\n",
      "weighted avg       0.77      0.79      0.77      1000\n",
      "\n"
     ]
    }
   ],
   "source": [
    "from sklearn.metrics import confusion_matrix\n",
    "\n",
    "\n",
    "train_df = pd.read_csv(\"encoded_train_data.csv\")\n",
    "\n",
    "#分離X以及Y\n",
    "x = train_df.drop('left',axis = 1)\n",
    "y = train_df['left']\n",
    "\n",
    "#分離測試資料\n",
    "X_train,X_test,y_train,y_test = train_test_split(x,y,test_size = 0.1,random_state = 42)\n",
    "\n",
    "model = LogisticRegression(max_iter=1000)\n",
    "model.fit(X_train,y_train)\n",
    "\n",
    "y_pred = model.predict(X_test)\n",
    "\n",
    "#評估accuracy\n",
    "accuracy = accuracy_score(y_test,y_pred)\n",
    "print(f\"Accuracy:{accuracy}\")\n",
    "\n",
    "#建立混淆矩陣\n",
    "conf_matrix = confusion_matrix(y_test,y_pred)\n",
    "print(f\"confusion matrix:\\n {conf_matrix}\")\n",
    "\n",
    "\n",
    "class_report = classification_report(y_test, y_pred)\n",
    "print(f\"Classification Report:\\n{class_report}\")"
   ]
  },
  {
   "cell_type": "markdown",
   "metadata": {},
   "source": [
    "## 優化模型\n",
    "\n",
    "### 進行 Mutual Information (MI) 分析\n",
    "\n",
    "這種分析方法衡量各種特徵(X)對於Y的依賴程度，得分越高，表示該X對Y的貢獻大。"
   ]
  },
  {
   "cell_type": "code",
   "execution_count": 290,
   "metadata": {},
   "outputs": [
    {
     "data": {
      "image/png": "[encoded data removed]",
      "text/plain": [
       "<Figure size 1000x600 with 1 Axes>"
      ]
     },
     "metadata": {},
     "output_type": "display_data"
    }
   ],
   "source": [
    "from sklearn.feature_selection import mutual_info_classif\n",
    "\n",
    "# 載入資料集\n",
    "df = pd.read_csv('HW2_hr-analytics_train.csv')\n",
    "\n",
    "# 顯示資料集的資訊摘要\n",
    "#print(df.info())\n",
    "\n",
    "# 移除 `sales` 和 `salary` 欄位，因為這兩者的data type是object，而非數字\n",
    "df = df.drop(['sales', 'salary'], axis=1)\n",
    "\n",
    "# 將資料集分成特徵和目標變數\n",
    "X = df.drop('left', axis=1)\n",
    "y = df['left']\n",
    "\n",
    "# 計算每個特徵與目標變數之間的互信息\n",
    "mi_scores = mutual_info_classif(X, y)\n",
    "\n",
    "# 顯示每個特徵的互信息分數\n",
    "#for i, col in enumerate(X.columns):\n",
    "#    print(f'{col}: {mi_scores[i]:.3f}')\n",
    "\n",
    "import matplotlib.pyplot as plt\n",
    "\n",
    "# 繪製長條圖\n",
    "plt.figure(figsize=(10, 6))\n",
    "plt.bar(X.columns, mi_scores)\n",
    "plt.title('Mutual Information Scores')\n",
    "plt.xlabel('Features')\n",
    "plt.ylabel('Mutual Information')\n",
    "plt.xticks(rotation=45)\n",
    "plt.show()"
   ]
  },
  {
   "cell_type": "markdown",
   "metadata": {},
   "source": [
    "### mutual information 分析結論\n",
    "promotion_last_5years 分數很低，因此考慮移除"
   ]
  },
  {
   "cell_type": "markdown",
   "metadata": {},
   "source": [
    "### 進行皮爾遜相關係數分析"
   ]
  },
  {
   "cell_type": "code",
   "execution_count": 291,
   "metadata": {},
   "outputs": [
    {
     "data": {
      "text/html": [
       "\n",
       "<style>\n",
       "  #altair-viz-271ebe70b9a54fe28e7ad6e6472fb28d.vega-embed {\n",
       "    width: 100%;\n",
       "    display: flex;\n",
       "  }\n",
       "\n",
       "  #altair-viz-271ebe70b9a54fe28e7ad6e6472fb28d.vega-embed details,\n",
       "  #altair-viz-271ebe70b9a54fe28e7ad6e6472fb28d.vega-embed details summary {\n",
       "    position: relative;\n",
       "  }\n",
       "</style>\n",
       "<div id=\"altair-viz-271ebe70b9a54fe28e7ad6e6472fb28d\"></div>\n",
       "<script type=\"text/javascript\">\n",
       "  var VEGA_DEBUG = (typeof VEGA_DEBUG == \"undefined\") ? {} : VEGA_DEBUG;\n",
       "  (function(spec, embedOpt){\n",
       "    let outputDiv = document.currentScript.previousElementSibling;\n",
       "    if (outputDiv.id !== \"altair-viz-271ebe70b9a54fe28e7ad6e6472fb28d\") {\n",
       "      outputDiv = document.getElementById(\"altair-viz-271ebe70b9a54fe28e7ad6e6472fb28d\");\n",
       "    }\n",
       "    const paths = {\n",
       "      \"vega\": \"https://cdn.jsdelivr.net/npm/vega@5?noext\",\n",
       "      \"vega-lib\": \"https://cdn.jsdelivr.net/npm/vega-lib?noext\",\n",
       "      \"vega-lite\": \"https://cdn.jsdelivr.net/npm/vega-lite@5.20.1?noext\",\n",
       "      \"vega-embed\": \"https://cdn.jsdelivr.net/npm/vega-embed@6?noext\",\n",
       "    };\n",
       "\n",
       "    function maybeLoadScript(lib, version) {\n",
       "      var key = `${lib.replace(\"-\", \"\")}_version`;\n",
       "      return (VEGA_DEBUG[key] == version) ?\n",
       "        Promise.resolve(paths[lib]) :\n",
       "        new Promise(function(resolve, reject) {\n",
       "          var s = document.createElement('script');\n",
       "          document.getElementsByTagName(\"head\")[0].appendChild(s);\n",
       "          s.async = true;\n",
       "          s.onload = () => {\n",
       "            VEGA_DEBUG[key] = version;\n",
       "            return resolve(paths[lib]);\n",
       "          };\n",
       "          s.onerror = () => reject(`Error loading script: ${paths[lib]}`);\n",
       "          s.src = paths[lib];\n",
       "        });\n",
       "    }\n",
       "\n",
       "    function showError(err) {\n",
       "      outputDiv.innerHTML = `<div class=\"error\" style=\"color:red;\">${err}</div>`;\n",
       "      throw err;\n",
       "    }\n",
       "\n",
       "    function displayChart(vegaEmbed) {\n",
       "      vegaEmbed(outputDiv, spec, embedOpt)\n",
       "        .catch(err => showError(`Javascript Error: ${err.message}<br>This usually means there's a typo in your chart specification. See the javascript console for the full traceback.`));\n",
       "    }\n",
       "\n",
       "    if(typeof define === \"function\" && define.amd) {\n",
       "      requirejs.config({paths});\n",
       "      require([\"vega-embed\"], displayChart, err => showError(`Error loading script: ${err.message}`));\n",
       "    } else {\n",
       "      maybeLoadScript(\"vega\", \"5\")\n",
       "        .then(() => maybeLoadScript(\"vega-lite\", \"5.20.1\"))\n",
       "        .then(() => maybeLoadScript(\"vega-embed\", \"6\"))\n",
       "        .catch(showError)\n",
       "        .then(() => displayChart(vegaEmbed));\n",
       "    }\n",
       "  })({\"config\": {\"view\": {\"continuousWidth\": 300, \"continuousHeight\": 300}}, \"layer\": [{\"mark\": {\"type\": \"rect\"}, \"encoding\": {\"color\": {\"field\": \"value\", \"scale\": {\"range\": \"heatmap\"}, \"type\": \"quantitative\"}, \"tooltip\": [{\"field\": \"index\", \"type\": \"nominal\"}, {\"field\": \"variable\", \"type\": \"nominal\"}, {\"field\": \"value\", \"type\": \"quantitative\"}], \"x\": {\"field\": \"index\", \"title\": \"\", \"type\": \"nominal\"}, \"y\": {\"field\": \"variable\", \"title\": \"\", \"type\": \"nominal\"}}, \"title\": \"Pearson Correlation Matrix\"}, {\"mark\": {\"type\": \"text\", \"baseline\": \"middle\"}, \"encoding\": {\"color\": {\"condition\": {\"test\": \"(datum.value > 0.5)\", \"value\": \"white\"}, \"value\": \"black\"}, \"text\": {\"field\": \"value\", \"format\": \".2f\", \"type\": \"quantitative\"}, \"tooltip\": [{\"field\": \"index\", \"type\": \"nominal\"}, {\"field\": \"variable\", \"type\": \"nominal\"}, {\"field\": \"value\", \"type\": \"quantitative\"}], \"x\": {\"field\": \"index\", \"title\": \"\", \"type\": \"nominal\"}, \"y\": {\"field\": \"variable\", \"title\": \"\", \"type\": \"nominal\"}}, \"title\": \"Pearson Correlation Matrix\"}], \"data\": {\"name\": \"data-dd97945b05d658465b56728eb9d39a4c\"}, \"height\": 400, \"width\": 400, \"$schema\": \"https://vega.github.io/schema/vega-lite/v5.20.1.json\", \"datasets\": {\"data-dd97945b05d658465b56728eb9d39a4c\": [{\"index\": \"satisfaction_level\", \"variable\": \"satisfaction_level\", \"value\": 1.0}, {\"index\": \"last_evaluation\", \"variable\": \"satisfaction_level\", \"value\": 0.09659827927715364}, {\"index\": \"number_project\", \"variable\": \"satisfaction_level\", \"value\": -0.14713599756548948}, {\"index\": \"average_montly_hours\", \"variable\": \"satisfaction_level\", \"value\": -0.02690275489288938}, {\"index\": \"time_spend_company\", \"variable\": \"satisfaction_level\", \"value\": -0.09949586893980422}, {\"index\": \"Work_accident\", \"variable\": \"satisfaction_level\", \"value\": 0.06166487149525734}, {\"index\": \"promotion_last_5years\", \"variable\": \"satisfaction_level\", \"value\": 0.026837386730893684}, {\"index\": \"left\", \"variable\": \"satisfaction_level\", \"value\": -0.38972070593471186}, {\"index\": \"satisfaction_level\", \"variable\": \"last_evaluation\", \"value\": 0.09659827927715364}, {\"index\": \"last_evaluation\", \"variable\": \"last_evaluation\", \"value\": 1.0}, {\"index\": \"number_project\", \"variable\": \"last_evaluation\", \"value\": 0.34911445117843676}, {\"index\": \"average_montly_hours\", \"variable\": \"last_evaluation\", \"value\": 0.34009082463478635}, {\"index\": \"time_spend_company\", \"variable\": \"last_evaluation\", \"value\": 0.1332964516580049}, {\"index\": \"Work_accident\", \"variable\": \"last_evaluation\", \"value\": -0.009734426612399838}, {\"index\": \"promotion_last_5years\", \"variable\": \"last_evaluation\", \"value\": -0.009802079377250755}, {\"index\": \"left\", \"variable\": \"last_evaluation\", \"value\": 0.008456099060054836}, {\"index\": \"satisfaction_level\", \"variable\": \"number_project\", \"value\": -0.14713599756548948}, {\"index\": \"last_evaluation\", \"variable\": \"number_project\", \"value\": 0.34911445117843676}, {\"index\": \"number_project\", \"variable\": \"number_project\", \"value\": 1.0}, {\"index\": \"average_montly_hours\", \"variable\": \"number_project\", \"value\": 0.4149953874309765}, {\"index\": \"time_spend_company\", \"variable\": \"number_project\", \"value\": 0.19045565500774686}, {\"index\": \"Work_accident\", \"variable\": \"number_project\", \"value\": -0.00908205037671152}, {\"index\": \"promotion_last_5years\", \"variable\": \"number_project\", \"value\": -0.0006643147157275241}, {\"index\": \"left\", \"variable\": \"number_project\", \"value\": 0.023948615429138623}, {\"index\": \"satisfaction_level\", \"variable\": \"average_montly_hours\", \"value\": -0.02690275489288938}, {\"index\": \"last_evaluation\", \"variable\": \"average_montly_hours\", \"value\": 0.34009082463478635}, {\"index\": \"number_project\", \"variable\": \"average_montly_hours\", \"value\": 0.4149953874309765}, {\"index\": \"average_montly_hours\", \"variable\": \"average_montly_hours\", \"value\": 1.0}, {\"index\": \"time_spend_company\", \"variable\": \"average_montly_hours\", \"value\": 0.13041840542214206}, {\"index\": \"Work_accident\", \"variable\": \"average_montly_hours\", \"value\": -0.008613675428415301}, {\"index\": \"promotion_last_5years\", \"variable\": \"average_montly_hours\", \"value\": -7.284144366894042e-05}, {\"index\": \"left\", \"variable\": \"average_montly_hours\", \"value\": 0.06991078868415605}, {\"index\": \"satisfaction_level\", \"variable\": \"time_spend_company\", \"value\": -0.09949586893980422}, {\"index\": \"last_evaluation\", \"variable\": \"time_spend_company\", \"value\": 0.1332964516580049}, {\"index\": \"number_project\", \"variable\": \"time_spend_company\", \"value\": 0.19045565500774686}, {\"index\": \"average_montly_hours\", \"variable\": \"time_spend_company\", \"value\": 0.13041840542214206}, {\"index\": \"time_spend_company\", \"variable\": \"time_spend_company\", \"value\": 1.0}, {\"index\": \"Work_accident\", \"variable\": \"time_spend_company\", \"value\": 0.0016421379453657233}, {\"index\": \"promotion_last_5years\", \"variable\": \"time_spend_company\", \"value\": 0.0744744942583802}, {\"index\": \"left\", \"variable\": \"time_spend_company\", \"value\": 0.13876389188571273}, {\"index\": \"satisfaction_level\", \"variable\": \"Work_accident\", \"value\": 0.06166487149525734}, {\"index\": \"last_evaluation\", \"variable\": \"Work_accident\", \"value\": -0.009734426612399838}, {\"index\": \"number_project\", \"variable\": \"Work_accident\", \"value\": -0.00908205037671152}, {\"index\": \"average_montly_hours\", \"variable\": \"Work_accident\", \"value\": -0.008613675428415301}, {\"index\": \"time_spend_company\", \"variable\": \"Work_accident\", \"value\": 0.0016421379453657233}, {\"index\": \"Work_accident\", \"variable\": \"Work_accident\", \"value\": 1.0}, {\"index\": \"promotion_last_5years\", \"variable\": \"Work_accident\", \"value\": 0.04776933529666428}, {\"index\": \"left\", \"variable\": \"Work_accident\", \"value\": -0.15832688646804946}, {\"index\": \"satisfaction_level\", \"variable\": \"promotion_last_5years\", \"value\": 0.026837386730893684}, {\"index\": \"last_evaluation\", \"variable\": \"promotion_last_5years\", \"value\": -0.009802079377250755}, {\"index\": \"number_project\", \"variable\": \"promotion_last_5years\", \"value\": -0.0006643147157275241}, {\"index\": \"average_montly_hours\", \"variable\": \"promotion_last_5years\", \"value\": -7.284144366894042e-05}, {\"index\": \"time_spend_company\", \"variable\": \"promotion_last_5years\", \"value\": 0.0744744942583802}, {\"index\": \"Work_accident\", \"variable\": \"promotion_last_5years\", \"value\": 0.04776933529666428}, {\"index\": \"promotion_last_5years\", \"variable\": \"promotion_last_5years\", \"value\": 1.0}, {\"index\": \"left\", \"variable\": \"promotion_last_5years\", \"value\": -0.06486075500788362}, {\"index\": \"satisfaction_level\", \"variable\": \"left\", \"value\": -0.38972070593471186}, {\"index\": \"last_evaluation\", \"variable\": \"left\", \"value\": 0.008456099060054836}, {\"index\": \"number_project\", \"variable\": \"left\", \"value\": 0.023948615429138623}, {\"index\": \"average_montly_hours\", \"variable\": \"left\", \"value\": 0.06991078868415605}, {\"index\": \"time_spend_company\", \"variable\": \"left\", \"value\": 0.13876389188571273}, {\"index\": \"Work_accident\", \"variable\": \"left\", \"value\": -0.15832688646804946}, {\"index\": \"promotion_last_5years\", \"variable\": \"left\", \"value\": -0.06486075500788362}, {\"index\": \"left\", \"variable\": \"left\", \"value\": 1.0}]}}, {\"mode\": \"vega-lite\"});\n",
       "</script>"
      ],
      "text/plain": [
       "alt.LayerChart(...)"
      ]
     },
     "metadata": {},
     "output_type": "display_data"
    }
   ],
   "source": [
    "import altair as alt\n",
    "\n",
    "# 計算皮爾遜相關係數\n",
    "corr_matrix = df.corr(method='pearson')\n",
    "\n",
    "# 建立熱圖\n",
    "base = alt.Chart(corr_matrix.reset_index().melt('index')).mark_rect().encode(\n",
    "    x=alt.X('index', title=''),\n",
    "    y=alt.Y('variable', title=''),\n",
    "    color=alt.Color('value', scale=alt.Scale(range='heatmap')),\n",
    "    tooltip=['index', 'variable', 'value']\n",
    ").properties(\n",
    "    title='Pearson Correlation Matrix',\n",
    "    width=400,   # 調整圖表寬度\n",
    "    height=400   # 調整圖表高度\n",
    ")\n",
    "\n",
    "# 加入文字標籤，調整字型大小\n",
    "text = base.mark_text(baseline='middle').encode(\n",
    "    text=alt.Text('value', format='.2f'),\n",
    "    color=alt.condition(\n",
    "        alt.datum.value > 0.5,  # 當值大於 0.5 時使用深色文字\n",
    "        alt.value('white'),\n",
    "        alt.value('black')\n",
    "    ),\n",
    "\n",
    ")\n",
    "\n",
    "# 合併圖表\n",
    "chart = base + text\n",
    "\n",
    "chart.display()\n",
    "\n"
   ]
  },
  {
   "cell_type": "markdown",
   "metadata": {},
   "source": [
    "#### 皮爾遜解讀\n",
    "\n",
    "用來捕捉線性關係\n",
    "\n",
    "越接近 1 或 -1，相關性越強。\n",
    "\n",
    "越接近 0，則表示相關性越弱，變數之間的變化沒有線性模式。\n",
    "\n",
    "從上圖可發現，last_evaluation 以及 number project接近0，較看不出來與left的線性關係。\n",
    "\n",
    "但這從上面MI分析來看，對Y具有一定的貢獻程度，代表他們與left可能有非線性關係\n",
    "\n",
    "所以接下來會考慮進行分箱，可以將last_evaluation 以及 number projectc原本連續的數值，分成離散的類別。這樣就有助於Logistic Regression去學習為每個不同的類別學習不同的權重。\n"
   ]
  },
  {
   "cell_type": "markdown",
   "metadata": {},
   "source": [
    "## 綜合調整\n",
    "\n",
    "了解到  Logistic Regression 是一個線性模型，因此它假設x和y之間存在線性關係。\n",
    "所以嘗試在進入model前，就先透過分箱捕捉一些非線性的關係，方便mode捕捉線性關係。\n",
    "\n",
    "1. 對average_montly_hours進行標準化(因為數值較大，範圍從100~300)\n",
    "\n",
    "2. 對last_evaluation 以及 number projectc進行分箱，分成「低」、「中」、「高」三個類別。\n",
    "\n",
    "3. 創造新特徵 efficiency，結合 average_montly_hours 和 time_spend_company ，表示員工的「工作效率」。\n",
    "\n",
    "4. 移除promotion_last_5years\n",
    "\n"
   ]
  },
  {
   "cell_type": "code",
   "execution_count": 292,
   "metadata": {},
   "outputs": [
    {
     "name": "stdout",
     "output_type": "stream",
     "text": [
      "   average_montly_hours_normalized last_evaluation_binned  \\\n",
      "0                        -0.959339                    Low   \n",
      "1                         1.164342                   High   \n",
      "2                         0.463127                   High   \n",
      "3                        -1.319964                    Low   \n",
      "4                         0.663474                   High   \n",
      "\n",
      "  number_project_binned  efficiency  \n",
      "0                   Low        51.0  \n",
      "1                Medium        51.8  \n",
      "2                Medium        44.8  \n",
      "3                   Low        45.0  \n",
      "4                Medium        46.8  \n"
     ]
    }
   ],
   "source": [
    "from sklearn.preprocessing import StandardScaler\n",
    "\n",
    "df = pd.read_csv(\"encoded_train_data.csv\")\n",
    "\n",
    "# Step 1: Normalize 'average_montly_hours'\n",
    "scaler = StandardScaler()\n",
    "df['average_montly_hours_normalized'] = scaler.fit_transform(df[['average_montly_hours']])\n",
    "\n",
    "# Step 2 :Binning 'last_evaluation'\n",
    "df['last_evaluation_binned'] = pd.cut(df['last_evaluation'], bins=3, labels=['Low', 'Medium', 'High'])\n",
    "# Bining 'number project'\n",
    "df['number_project_binned'] = pd.cut(df['number_project'],bins = 3,labels = ['Low','Medium','High'])\n",
    "\n",
    "\n",
    "# Step 3: Create a new feature 'efficiency'\n",
    "df['efficiency'] = df['average_montly_hours'] / df['time_spend_company']\n",
    "\n",
    "print(df[['average_montly_hours_normalized', 'last_evaluation_binned', 'number_project_binned', 'efficiency']].head())\n"
   ]
  },
  {
   "cell_type": "markdown",
   "metadata": {},
   "source": [
    "### 做完特徵工程後，再次訓練"
   ]
  },
  {
   "cell_type": "code",
   "execution_count": 293,
   "metadata": {},
   "outputs": [
    {
     "name": "stdout",
     "output_type": "stream",
     "text": [
      "Model Accuracy: 0.87\n",
      "AUC score: 0.93\n"
     ]
    }
   ],
   "source": [
    "from sklearn.metrics import roc_auc_score\n",
    "\n",
    "# Drop original features that have been transformed or are redundant\n",
    "df = df.drop(columns=['average_montly_hours', 'last_evaluation', 'number_project','promotion_last_5years'])\n",
    "\n",
    "# Convert categorical features to dummy variables (create binary columns for 'low', 'medium', 'high')\n",
    "df = pd.get_dummies(df, columns=['last_evaluation_binned', 'number_project_binned'], drop_first=True)\n",
    "\n",
    "#print(df.head(3))\n",
    "\n",
    "# Define feature columns and target\n",
    "X = df.drop(columns=['left'])  # Assuming 'left' is the target variable\n",
    "y = df['left']\n",
    "\n",
    "# Split the data into training and testing sets\n",
    "X_train, X_test, y_train, y_test = train_test_split(X, y, test_size=0.2, random_state=42)\n",
    "\n",
    "# Initialize and train the Logistic Regression model\n",
    "model = LogisticRegression(max_iter=1000)\n",
    "model.fit(X_train, y_train)\n",
    "\n",
    "# Make predictions\n",
    "y_pred = model.predict(X_test)\n",
    "\n",
    "# Evaluate the model\n",
    "accuracy = accuracy_score(y_test, y_pred)\n",
    "print(f\"Model Accuracy: {accuracy:.2f}\")\n",
    "\n",
    "\n",
    "\n",
    "# Make predictions and calculate AUC\n",
    "y_pred_proba = model.predict_proba(X_test)[:, 1]\n",
    "auc_score = roc_auc_score(y_test, y_pred_proba)\n",
    "\n",
    "print(f\"AUC score: {auc_score:.2f}\")\n"
   ]
  },
  {
   "cell_type": "markdown",
   "metadata": {},
   "source": [
    "### 經由特徵工程後，準確度提升到0.87"
   ]
  },
  {
   "cell_type": "markdown",
   "metadata": {},
   "source": [
    "### 利用訓練後的模型預測測試資料HW2_hr-analytics_test.csv的離職情況\n",
    "#### 必須先對test data 做一樣的preprocessing"
   ]
  },
  {
   "cell_type": "code",
   "execution_count": 294,
   "metadata": {},
   "outputs": [],
   "source": [
    "test_df = pd.read_csv(\"HW2_hr-analytics_test.csv\")\n",
    "\n",
    "## one hot encoding\n",
    "sales_encoded = pd.get_dummies(test_df['sales'],prefix='sales')\n",
    "#print(\"sales encoded:\\n\",sales_encoded.head())\n",
    "\n",
    "## label encoding\n",
    "mapping = {'low' : 0,'medium' :1,'high' : 2}\n",
    "test_df['salary_encoded' ] = test_df['salary'].map(mapping)\n",
    "\n",
    "#丟棄原本encode前的column\n",
    "test_df = pd.concat([test_df,sales_encoded],axis = 1)#將one hot encoding的結果整合進去train_df\n",
    "test_df = test_df.drop('sales',axis = 1)\n",
    "test_df = test_df.drop('salary',axis = 1)\n",
    "test_df.to_csv('encoded_train_data.csv',index= False)\n",
    "\n",
    "from sklearn.preprocessing import StandardScaler\n",
    "\n",
    "\n",
    "# Step 1: Normalize 'average_montly_hours'\n",
    "scaler = StandardScaler()\n",
    "test_df['average_montly_hours_normalized'] = scaler.fit_transform(test_df[['average_montly_hours']])\n",
    "\n",
    "# Step 2 :Binning 'last_evaluation'\n",
    "test_df['last_evaluation_binned'] = pd.cut(test_df['last_evaluation'], bins=3, labels=['Low', 'Medium', 'High'])\n",
    "# Bining 'number project'\n",
    "test_df['number_project_binned'] = pd.cut(test_df['number_project'],bins = 3,labels = ['Low','Medium','High'])\n",
    "\n",
    "\n",
    "# Step 3: Create a new feature 'efficiency'\n",
    "test_df['efficiency'] = test_df['average_montly_hours'] / test_df['time_spend_company']\n",
    "\n",
    "# Drop original features that have been transformed or are redundant\n",
    "test_df = test_df.drop(columns=['average_montly_hours', 'last_evaluation', 'number_project','promotion_last_5years'])\n",
    "\n",
    "# Convert categorical features to dummy variables (create binary columns for 'low', 'medium', 'high')\n",
    "test_df = pd.get_dummies(test_df, columns=['last_evaluation_binned', 'number_project_binned'], drop_first=True)\n",
    "\n",
    "test_df.to_csv(\"final_test.csv\")"
   ]
  },
  {
   "cell_type": "markdown",
   "metadata": {},
   "source": [
    "#### 進行預測並輸出結果成HW2_hr-analytics_test_sol.csv"
   ]
  },
  {
   "cell_type": "code",
   "execution_count": 295,
   "metadata": {},
   "outputs": [
    {
     "name": "stdout",
     "output_type": "stream",
     "text": [
      "   left\n",
      "0     0\n",
      "1     0\n",
      "2     1\n",
      "3     1\n",
      "4     0\n"
     ]
    }
   ],
   "source": [
    "y_pred = model.predict(test_df)\n",
    "\n",
    "save_df = pd.DataFrame(y_pred,columns = ['left'])\n",
    "print(save_df.head(5))\n",
    "\n",
    "save_df.to_csv('HW2_hr-analytics_test_sol.csv',index =False)"
   ]
  }
 ],
 "metadata": {
  "kernelspec": {
   "display_name": "Python 3",
   "language": "python",
   "name": "python3"
  },
  "language_info": {
   "codemirror_mode": {
    "name": "ipython",
    "version": 3
   },
   "file_extension": ".py",
   "mimetype": "text/x-python",
   "name": "python",
   "nbconvert_exporter": "python",
   "pygments_lexer": "ipython3",
   "version": "3.9.12"
  }
 },
 "nbformat": 4,
 "nbformat_minor": 2
}
