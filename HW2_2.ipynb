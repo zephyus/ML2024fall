{
 "cells": [
  {
   "cell_type": "code",
   "execution_count": 22,
   "metadata": {},
   "outputs": [],
   "source": [
    "import numpy as np\n",
    "import pandas as pd\n",
    "import matplotlib.pyplot as plt\n",
    "from sklearn.model_selection import train_test_split\n",
    "from sklearn.linear_model import LogisticRegression\n",
    "from sklearn.metrics import accuracy_score,classification_report\n",
    "\n"
   ]
  },
  {
   "cell_type": "markdown",
   "metadata": {},
   "source": [
    "讀取CSV"
   ]
  },
  {
   "cell_type": "code",
   "execution_count": 23,
   "metadata": {},
   "outputs": [
    {
     "data": {
      "text/html": [
       "<div>\n",
       "<style scoped>\n",
       "    .dataframe tbody tr th:only-of-type {\n",
       "        vertical-align: middle;\n",
       "    }\n",
       "\n",
       "    .dataframe tbody tr th {\n",
       "        vertical-align: top;\n",
       "    }\n",
       "\n",
       "    .dataframe thead th {\n",
       "        text-align: right;\n",
       "    }\n",
       "</style>\n",
       "<table border=\"1\" class=\"dataframe\">\n",
       "  <thead>\n",
       "    <tr style=\"text-align: right;\">\n",
       "      <th></th>\n",
       "      <th>satisfaction_level</th>\n",
       "      <th>last_evaluation</th>\n",
       "      <th>number_project</th>\n",
       "      <th>average_montly_hours</th>\n",
       "      <th>time_spend_company</th>\n",
       "      <th>Work_accident</th>\n",
       "      <th>promotion_last_5years</th>\n",
       "      <th>left</th>\n",
       "    </tr>\n",
       "  </thead>\n",
       "  <tbody>\n",
       "    <tr>\n",
       "      <th>count</th>\n",
       "      <td>10000.000000</td>\n",
       "      <td>10000.000000</td>\n",
       "      <td>10000.000000</td>\n",
       "      <td>10000.000000</td>\n",
       "      <td>10000.000000</td>\n",
       "      <td>10000.000000</td>\n",
       "      <td>10000.00000</td>\n",
       "      <td>10000.000000</td>\n",
       "    </tr>\n",
       "    <tr>\n",
       "      <th>mean</th>\n",
       "      <td>0.609706</td>\n",
       "      <td>0.715803</td>\n",
       "      <td>3.803700</td>\n",
       "      <td>200.883800</td>\n",
       "      <td>3.502400</td>\n",
       "      <td>0.144400</td>\n",
       "      <td>0.02130</td>\n",
       "      <td>0.239200</td>\n",
       "    </tr>\n",
       "    <tr>\n",
       "      <th>std</th>\n",
       "      <td>0.247832</td>\n",
       "      <td>0.172137</td>\n",
       "      <td>1.238757</td>\n",
       "      <td>49.915824</td>\n",
       "      <td>1.478652</td>\n",
       "      <td>0.351512</td>\n",
       "      <td>0.14439</td>\n",
       "      <td>0.426616</td>\n",
       "    </tr>\n",
       "    <tr>\n",
       "      <th>min</th>\n",
       "      <td>0.090000</td>\n",
       "      <td>0.360000</td>\n",
       "      <td>2.000000</td>\n",
       "      <td>96.000000</td>\n",
       "      <td>2.000000</td>\n",
       "      <td>0.000000</td>\n",
       "      <td>0.00000</td>\n",
       "      <td>0.000000</td>\n",
       "    </tr>\n",
       "    <tr>\n",
       "      <th>25%</th>\n",
       "      <td>0.440000</td>\n",
       "      <td>0.560000</td>\n",
       "      <td>3.000000</td>\n",
       "      <td>156.000000</td>\n",
       "      <td>3.000000</td>\n",
       "      <td>0.000000</td>\n",
       "      <td>0.00000</td>\n",
       "      <td>0.000000</td>\n",
       "    </tr>\n",
       "    <tr>\n",
       "      <th>50%</th>\n",
       "      <td>0.640000</td>\n",
       "      <td>0.720000</td>\n",
       "      <td>4.000000</td>\n",
       "      <td>200.000000</td>\n",
       "      <td>3.000000</td>\n",
       "      <td>0.000000</td>\n",
       "      <td>0.00000</td>\n",
       "      <td>0.000000</td>\n",
       "    </tr>\n",
       "    <tr>\n",
       "      <th>75%</th>\n",
       "      <td>0.810000</td>\n",
       "      <td>0.870000</td>\n",
       "      <td>5.000000</td>\n",
       "      <td>245.000000</td>\n",
       "      <td>4.000000</td>\n",
       "      <td>0.000000</td>\n",
       "      <td>0.00000</td>\n",
       "      <td>0.000000</td>\n",
       "    </tr>\n",
       "    <tr>\n",
       "      <th>max</th>\n",
       "      <td>1.000000</td>\n",
       "      <td>1.000000</td>\n",
       "      <td>7.000000</td>\n",
       "      <td>310.000000</td>\n",
       "      <td>10.000000</td>\n",
       "      <td>1.000000</td>\n",
       "      <td>1.00000</td>\n",
       "      <td>1.000000</td>\n",
       "    </tr>\n",
       "  </tbody>\n",
       "</table>\n",
       "</div>"
      ],
      "text/plain": [
       "       satisfaction_level  last_evaluation  number_project  \\\n",
       "count        10000.000000     10000.000000    10000.000000   \n",
       "mean             0.609706         0.715803        3.803700   \n",
       "std              0.247832         0.172137        1.238757   \n",
       "min              0.090000         0.360000        2.000000   \n",
       "25%              0.440000         0.560000        3.000000   \n",
       "50%              0.640000         0.720000        4.000000   \n",
       "75%              0.810000         0.870000        5.000000   \n",
       "max              1.000000         1.000000        7.000000   \n",
       "\n",
       "       average_montly_hours  time_spend_company  Work_accident  \\\n",
       "count          10000.000000        10000.000000   10000.000000   \n",
       "mean             200.883800            3.502400       0.144400   \n",
       "std               49.915824            1.478652       0.351512   \n",
       "min               96.000000            2.000000       0.000000   \n",
       "25%              156.000000            3.000000       0.000000   \n",
       "50%              200.000000            3.000000       0.000000   \n",
       "75%              245.000000            4.000000       0.000000   \n",
       "max              310.000000           10.000000       1.000000   \n",
       "\n",
       "       promotion_last_5years          left  \n",
       "count            10000.00000  10000.000000  \n",
       "mean                 0.02130      0.239200  \n",
       "std                  0.14439      0.426616  \n",
       "min                  0.00000      0.000000  \n",
       "25%                  0.00000      0.000000  \n",
       "50%                  0.00000      0.000000  \n",
       "75%                  0.00000      0.000000  \n",
       "max                  1.00000      1.000000  "
      ]
     },
     "execution_count": 23,
     "metadata": {},
     "output_type": "execute_result"
    }
   ],
   "source": [
    "train_df = pd.read_csv(\"HW2_hr-analytics_train.csv\")\n",
    "train_df.describe()"
   ]
  },
  {
   "cell_type": "markdown",
   "metadata": {},
   "source": [
    "將數字欄位的缺失值變成NaN\n",
    "經過檢查，發現沒有缺失值"
   ]
  },
  {
   "cell_type": "code",
   "execution_count": 24,
   "metadata": {},
   "outputs": [
    {
     "name": "stdout",
     "output_type": "stream",
     "text": [
      "satisfaction_level       0\n",
      "last_evaluation          0\n",
      "number_project           0\n",
      "average_montly_hours     0\n",
      "time_spend_company       0\n",
      "Work_accident            0\n",
      "promotion_last_5years    0\n",
      "sales                    0\n",
      "salary                   0\n",
      "left                     0\n",
      "dtype: int64\n",
      "satisfaction_level       False\n",
      "last_evaluation          False\n",
      "number_project           False\n",
      "average_montly_hours     False\n",
      "time_spend_company       False\n",
      "Work_accident            False\n",
      "promotion_last_5years    False\n",
      "sales                    False\n",
      "salary                   False\n",
      "left                     False\n",
      "dtype: bool\n"
     ]
    }
   ],
   "source": [
    "nan_col = train_df.isna().sum()  #.isna()會回傳與train.df相同大小的datafram，若是有缺失直，就會回傳True\n",
    "#.sum 就是對每個column的True數目求和\n",
    "\n",
    "\n",
    "#下面兩個方法完全一樣，可以看出哪個column有缺失值\n",
    "nan_isnull = train_df.isnull().any()\n",
    "nan_isna = train_df.isna().any(axis = 0)  \n",
    "\n",
    "print(nan_col)\n",
    "\n",
    "print(nan_isna)"
   ]
  },
  {
   "cell_type": "markdown",
   "metadata": {},
   "source": [
    "將非數字類型進行編碼(機器學習模型通常只能處理數字。因此，需要將非數字的資料轉換成數字，才能讓模型學習。)"
   ]
  },
  {
   "cell_type": "markdown",
   "metadata": {},
   "source": [
    "#### 選擇適當的編碼方式：\n",
    "\n",
    "類別數量少且無序：使用 One-Hot Encoding。\n",
    "\n",
    "類別數量多：可以考慮 Binary Encoding 或 Frequency Encoding。\n",
    "\n",
    "類別有自然順序：使用 Ordinal Encoding\n",
    "\n",
    "類別與目標變數有強相關性：考慮 Target Encoding，但需注意資料洩漏。"
   ]
  },
  {
   "cell_type": "code",
   "execution_count": 25,
   "metadata": {},
   "outputs": [
    {
     "name": "stdout",
     "output_type": "stream",
     "text": [
      "unique classes in sales: ['sales' 'accounting' 'hr' 'technical' 'support' 'management' 'IT'\n",
      " 'product_mng' 'marketing' 'RandD']\n",
      "\n",
      "\n",
      "unuque classes in salary: ['low' 'medium' 'high']\n"
     ]
    }
   ],
   "source": [
    "sales_class = train_df['sales'].unique()\n",
    "salary_class = train_df['salary'].unique()\n",
    "\n",
    "print(\"unique classes in sales:\",sales_class)\n",
    "print('\\n')\n",
    "print(\"unuque classes in salary:\",salary_class)"
   ]
  },
  {
   "cell_type": "markdown",
   "metadata": {},
   "source": [
    "經過上面觀察後，發現sales資料無相關性，所以使用one hot encoding\n",
    "salary 資料有相關性，所以使用label encoding"
   ]
  },
  {
   "cell_type": "code",
   "execution_count": 26,
   "metadata": {},
   "outputs": [],
   "source": [
    "## one hot encoding\n",
    "sales_encoded = pd.get_dummies(train_df['sales'],prefix='sales')\n",
    "#print(\"sales encoded:\\n\",sales_encoded.head())\n",
    "\n",
    "\n",
    "## label encoding\n",
    "mapping = {'low' : 0,'medium' :1,'high' : 2}\n",
    "train_df['salary_encoded' ] = train_df['salary'].map(mapping)\n"
   ]
  },
  {
   "cell_type": "markdown",
   "metadata": {},
   "source": [
    "將encoding結束的資料寫回新的csv"
   ]
  },
  {
   "cell_type": "code",
   "execution_count": 27,
   "metadata": {},
   "outputs": [],
   "source": [
    "train_df = pd.concat([train_df,sales_encoded],axis = 1)#將one hot encoding的結果整合進去train_df\n",
    "train_df = train_df.drop('sales',axis = 1)\n",
    "train_df = train_df.drop('salary',axis = 1)\n",
    "train_df.to_csv('encoded_train_data.csv',index= False)\n",
    "\n",
    "\n"
   ]
  },
  {
   "cell_type": "markdown",
   "metadata": {},
   "source": [
    "建立Logistic Regression 模型並進行訓練。請呈現訓練後模型預測\n",
    "的混淆矩陣。"
   ]
  },
  {
   "cell_type": "code",
   "execution_count": 28,
   "metadata": {},
   "outputs": [
    {
     "name": "stdout",
     "output_type": "stream",
     "text": [
      "Accuracy:0.79\n",
      "confusion matrix:\n",
      " [[700  48]\n",
      " [162  90]]\n",
      "Classification Report:\n",
      "              precision    recall  f1-score   support\n",
      "\n",
      "           0       0.81      0.94      0.87       748\n",
      "           1       0.65      0.36      0.46       252\n",
      "\n",
      "    accuracy                           0.79      1000\n",
      "   macro avg       0.73      0.65      0.67      1000\n",
      "weighted avg       0.77      0.79      0.77      1000\n",
      "\n"
     ]
    }
   ],
   "source": [
    "from sklearn.metrics import confusion_matrix\n",
    "\n",
    "\n",
    "train_df = pd.read_csv(\"encoded_train_data.csv\")\n",
    "\n",
    "#分離X以及Y\n",
    "x = train_df.drop('left',axis = 1)\n",
    "y = train_df['left']\n",
    "\n",
    "#分離測試資料\n",
    "X_train,X_test,y_train,y_test = train_test_split(x,y,test_size = 0.1,random_state = 42)\n",
    "\n",
    "model = LogisticRegression(max_iter=1000)\n",
    "model.fit(X_train,y_train)\n",
    "\n",
    "y_pred = model.predict(X_test)\n",
    "\n",
    "#評估accuracy\n",
    "accuracy = accuracy_score(y_test,y_pred)\n",
    "print(f\"Accuracy:{accuracy}\")\n",
    "\n",
    "#建立混淆矩陣\n",
    "conf_matrix = confusion_matrix(y_test,y_pred)\n",
    "print(f\"confusion matrix:\\n {conf_matrix}\")\n",
    "\n",
    "\n",
    "class_report = classification_report(y_test, y_pred)\n",
    "print(f\"Classification Report:\\n{class_report}\")"
   ]
  },
  {
   "cell_type": "markdown",
   "metadata": {},
   "source": [
    "### 利用訓練後的模型預測測試資料HW2_hr-analytics_test.csv的離職情況\n",
    "#### 必須先對test data 做一樣的preprocessing"
   ]
  },
  {
   "cell_type": "code",
   "execution_count": 29,
   "metadata": {},
   "outputs": [],
   "source": [
    "test_df = pd.read_csv(\"HW2_hr-analytics_test.csv\")\n",
    "\n",
    "## one hot encoding\n",
    "sales_encoded = pd.get_dummies(test_df['sales'],prefix='sales')\n",
    "#print(\"sales encoded:\\n\",sales_encoded.head())\n",
    "\n",
    "## label encoding\n",
    "mapping = {'low' : 0,'medium' :1,'high' : 2}\n",
    "test_df['salary_encoded' ] = test_df['salary'].map(mapping)\n",
    "\n",
    "#丟棄原本encode前的column\n",
    "test_df = pd.concat([test_df,sales_encoded],axis = 1)#將one hot encoding的結果整合進去train_df\n",
    "test_df = test_df.drop('sales',axis = 1)\n",
    "test_df = test_df.drop('salary',axis = 1)\n",
    "test_df.to_csv('encoded_train_data.csv',index= False)"
   ]
  },
  {
   "cell_type": "markdown",
   "metadata": {},
   "source": [
    "#### 進行預測並輸出結果成HW2_hr-analytics_test_sol.csv"
   ]
  },
  {
   "cell_type": "code",
   "execution_count": 33,
   "metadata": {},
   "outputs": [
    {
     "name": "stdout",
     "output_type": "stream",
     "text": [
      "      left\n",
      "0        0\n",
      "1        0\n",
      "2        1\n",
      "3        1\n",
      "4        0\n",
      "...    ...\n",
      "4995     0\n",
      "4996     0\n",
      "4997     1\n",
      "4998     0\n",
      "4999     0\n",
      "\n",
      "[5000 rows x 1 columns]\n"
     ]
    }
   ],
   "source": [
    "y_pred = model.predict(test_df)\n",
    "\n",
    "save_df = pd.DataFrame(y_pred,columns = ['left'])\n",
    "print(save_df)\n",
    "\n",
    "save_df.to_csv('HW2_hr-analytics_test_sol.csv',index =False)"
   ]
  }
 ],
 "metadata": {
  "kernelspec": {
   "display_name": "Python 3",
   "language": "python",
   "name": "python3"
  },
  "language_info": {
   "codemirror_mode": {
    "name": "ipython",
    "version": 3
   },
   "file_extension": ".py",
   "mimetype": "text/x-python",
   "name": "python",
   "nbconvert_exporter": "python",
   "pygments_lexer": "ipython3",
   "version": "3.9.12"
  }
 },
 "nbformat": 4,
 "nbformat_minor": 2
}
